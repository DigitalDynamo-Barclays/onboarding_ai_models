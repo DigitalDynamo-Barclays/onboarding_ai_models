{
 "cells": [
  {
   "cell_type": "code",
   "execution_count": null,
   "metadata": {},
   "outputs": [],
   "source": [
    "from mindee import Client, documents\n",
    "\n",
    "# Init a new client and add your custom endpoint (document)\n",
    "mindee_client = Client(api_key=\"b99503ae6741c730db66da45e7bb2767\").add_endpoint(\n",
    "    account_name=\"Utkarsh3012\",\n",
    "    endpoint_name=\"indian_dl_license\",\n",
    ")\n",
    "\n",
    "# Load a file from disk and parse it.\n",
    "# The endpoint name must be specified since it cannot be determined from the class.\n",
    "api_response = mindee_client.doc_from_path(\n",
    "    \"resources\\89f68c5d0891699604320be867561278.jpg\"\n",
    ").parse(documents.TypeCustomV1, endpoint_name=\"indian_dl_license\")\n",
    "\n",
    "# Print a brief summary of the parsed data\n",
    "print(api_response.document)\n",
    "\n",
    
   ]
  }
 ],
 "metadata": {
  "language_info": {
   "name": "python"
  },
  "orig_nbformat": 4
 },
 "nbformat": 4,
 "nbformat_minor": 2
}
