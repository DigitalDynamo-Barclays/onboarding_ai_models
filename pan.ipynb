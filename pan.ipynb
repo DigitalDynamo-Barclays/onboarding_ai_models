{
 "cells": [
  {
   "cell_type": "code",
   "execution_count": 1,
   "metadata": {},
   "outputs": [
    {
     "ename": "FileNotFoundError",
     "evalue": "[Errno 2] No such file or directory: '/path/to/the/file.ext'",
     "output_type": "error",
     "traceback": [
      "\u001b[1;31m---------------------------------------------------------------------------\u001b[0m",
      "\u001b[1;31mFileNotFoundError\u001b[0m                         Traceback (most recent call last)",
      "\u001b[1;32mc:\\Users\\upend\\Desktop\\BRP Details Extraction sample\\pan.ipynb Cell 1\u001b[0m in \u001b[0;36m<cell line: 11>\u001b[1;34m()\u001b[0m\n\u001b[0;32m      <a href='vscode-notebook-cell:/c%3A/Users/upend/Desktop/BRP%20Details%20Extraction%20sample/pan.ipynb#W0sZmlsZQ%3D%3D?line=3'>4</a>\u001b[0m mindee_client \u001b[39m=\u001b[39m Client(api_key\u001b[39m=\u001b[39m\u001b[39m\"\u001b[39m\u001b[39mb99503ae6741c730db66da45e7bb2767\u001b[39m\u001b[39m\"\u001b[39m)\u001b[39m.\u001b[39madd_endpoint(\n\u001b[0;32m      <a href='vscode-notebook-cell:/c%3A/Users/upend/Desktop/BRP%20Details%20Extraction%20sample/pan.ipynb#W0sZmlsZQ%3D%3D?line=4'>5</a>\u001b[0m     account_name\u001b[39m=\u001b[39m\u001b[39m\"\u001b[39m\u001b[39mUtkarsh3012\u001b[39m\u001b[39m\"\u001b[39m,\n\u001b[0;32m      <a href='vscode-notebook-cell:/c%3A/Users/upend/Desktop/BRP%20Details%20Extraction%20sample/pan.ipynb#W0sZmlsZQ%3D%3D?line=5'>6</a>\u001b[0m     endpoint_name\u001b[39m=\u001b[39m\u001b[39m\"\u001b[39m\u001b[39mpan_card\u001b[39m\u001b[39m\"\u001b[39m,\n\u001b[0;32m      <a href='vscode-notebook-cell:/c%3A/Users/upend/Desktop/BRP%20Details%20Extraction%20sample/pan.ipynb#W0sZmlsZQ%3D%3D?line=6'>7</a>\u001b[0m )\n\u001b[0;32m      <a href='vscode-notebook-cell:/c%3A/Users/upend/Desktop/BRP%20Details%20Extraction%20sample/pan.ipynb#W0sZmlsZQ%3D%3D?line=8'>9</a>\u001b[0m \u001b[39m# Load a file from disk and parse it.\u001b[39;00m\n\u001b[0;32m     <a href='vscode-notebook-cell:/c%3A/Users/upend/Desktop/BRP%20Details%20Extraction%20sample/pan.ipynb#W0sZmlsZQ%3D%3D?line=9'>10</a>\u001b[0m \u001b[39m# The endpoint name must be specified since it cannot be determined from the class.\u001b[39;00m\n\u001b[1;32m---> <a href='vscode-notebook-cell:/c%3A/Users/upend/Desktop/BRP%20Details%20Extraction%20sample/pan.ipynb#W0sZmlsZQ%3D%3D?line=10'>11</a>\u001b[0m api_response \u001b[39m=\u001b[39m mindee_client\u001b[39m.\u001b[39;49mdoc_from_path(\n\u001b[0;32m     <a href='vscode-notebook-cell:/c%3A/Users/upend/Desktop/BRP%20Details%20Extraction%20sample/pan.ipynb#W0sZmlsZQ%3D%3D?line=11'>12</a>\u001b[0m     \u001b[39m\"\u001b[39;49m\u001b[39m/path/to/the/file.ext\u001b[39;49m\u001b[39m\"\u001b[39;49m\n\u001b[0;32m     <a href='vscode-notebook-cell:/c%3A/Users/upend/Desktop/BRP%20Details%20Extraction%20sample/pan.ipynb#W0sZmlsZQ%3D%3D?line=12'>13</a>\u001b[0m )\u001b[39m.\u001b[39mparse(documents\u001b[39m.\u001b[39mTypeCustomV1, endpoint_name\u001b[39m=\u001b[39m\u001b[39m\"\u001b[39m\u001b[39mpan_card\u001b[39m\u001b[39m\"\u001b[39m)\n\u001b[0;32m     <a href='vscode-notebook-cell:/c%3A/Users/upend/Desktop/BRP%20Details%20Extraction%20sample/pan.ipynb#W0sZmlsZQ%3D%3D?line=14'>15</a>\u001b[0m \u001b[39m# Print a brief summary of the parsed data\u001b[39;00m\n\u001b[0;32m     <a href='vscode-notebook-cell:/c%3A/Users/upend/Desktop/BRP%20Details%20Extraction%20sample/pan.ipynb#W0sZmlsZQ%3D%3D?line=15'>16</a>\u001b[0m \u001b[39mprint\u001b[39m(api_response\u001b[39m.\u001b[39mdocument)\n",
      "File \u001b[1;32mc:\\Users\\upend\\AppData\\Local\\Programs\\Python\\Python310\\lib\\site-packages\\mindee\\client.py:337\u001b[0m, in \u001b[0;36mClient.doc_from_path\u001b[1;34m(self, input_path)\u001b[0m\n\u001b[0;32m    328\u001b[0m \u001b[39mdef\u001b[39;00m \u001b[39mdoc_from_path\u001b[39m(\n\u001b[0;32m    329\u001b[0m     \u001b[39mself\u001b[39m,\n\u001b[0;32m    330\u001b[0m     input_path: \u001b[39mstr\u001b[39m,\n\u001b[0;32m    331\u001b[0m ) \u001b[39m-\u001b[39m\u001b[39m>\u001b[39m DocumentClient:\n\u001b[0;32m    332\u001b[0m     \u001b[39m\"\"\"\u001b[39;00m\n\u001b[0;32m    333\u001b[0m \u001b[39m    Load a document from an absolute path, as a string.\u001b[39;00m\n\u001b[0;32m    334\u001b[0m \n\u001b[0;32m    335\u001b[0m \u001b[39m    :param input_path: Path of file to open\u001b[39;00m\n\u001b[0;32m    336\u001b[0m \u001b[39m    \"\"\"\u001b[39;00m\n\u001b[1;32m--> 337\u001b[0m     input_doc \u001b[39m=\u001b[39m PathInput(input_path)\n\u001b[0;32m    338\u001b[0m     \u001b[39mreturn\u001b[39;00m DocumentClient(\n\u001b[0;32m    339\u001b[0m         input_doc\u001b[39m=\u001b[39minput_doc,\n\u001b[0;32m    340\u001b[0m         doc_configs\u001b[39m=\u001b[39m\u001b[39mself\u001b[39m\u001b[39m.\u001b[39m_doc_configs,\n\u001b[0;32m    341\u001b[0m         raise_on_error\u001b[39m=\u001b[39m\u001b[39mself\u001b[39m\u001b[39m.\u001b[39mraise_on_error,\n\u001b[0;32m    342\u001b[0m     )\n",
      "File \u001b[1;32mc:\\Users\\upend\\AppData\\Local\\Programs\\Python\\Python310\\lib\\site-packages\\mindee\\input\\sources.py:199\u001b[0m, in \u001b[0;36mPathInput.__init__\u001b[1;34m(self, filepath)\u001b[0m\n\u001b[0;32m    193\u001b[0m \u001b[39mdef\u001b[39;00m \u001b[39m__init__\u001b[39m(\u001b[39mself\u001b[39m, filepath: \u001b[39mstr\u001b[39m):\n\u001b[0;32m    194\u001b[0m     \u001b[39m\"\"\"\u001b[39;00m\n\u001b[0;32m    195\u001b[0m \u001b[39m    Input document from a path.\u001b[39;00m\n\u001b[0;32m    196\u001b[0m \n\u001b[0;32m    197\u001b[0m \u001b[39m    :param filepath: Path to open\u001b[39;00m\n\u001b[0;32m    198\u001b[0m \u001b[39m    \"\"\"\u001b[39;00m\n\u001b[1;32m--> 199\u001b[0m     \u001b[39mself\u001b[39m\u001b[39m.\u001b[39mfile_object \u001b[39m=\u001b[39m \u001b[39mopen\u001b[39;49m(filepath, \u001b[39m\"\u001b[39;49m\u001b[39mrb\u001b[39;49m\u001b[39m\"\u001b[39;49m)  \u001b[39m# pylint: disable=consider-using-with\u001b[39;00m\n\u001b[0;32m    200\u001b[0m     \u001b[39mself\u001b[39m\u001b[39m.\u001b[39mfilename \u001b[39m=\u001b[39m os\u001b[39m.\u001b[39mpath\u001b[39m.\u001b[39mbasename(filepath)\n\u001b[0;32m    201\u001b[0m     \u001b[39mself\u001b[39m\u001b[39m.\u001b[39mfilepath \u001b[39m=\u001b[39m filepath\n",
      "\u001b[1;31mFileNotFoundError\u001b[0m: [Errno 2] No such file or directory: '/path/to/the/file.ext'"
     ]
    }
   ],
   "source": [
    "from mindee import Client, documents\n",
    "\n",
    "# Init a new client and add your custom endpoint (document)\n",
    "mindee_client = Client(api_key=\"b99503ae6741c730db66da45e7bb2767\").add_endpoint(\n",
    "    account_name=\"Utkarsh3012\",\n",
    "    endpoint_name=\"pan_card\",\n",
    ")\n",
    "\n",
    "# Load a file from disk and parse it.\n",
    "# The endpoint name must be specified since it cannot be determined from the class.\n",
    "api_response = mindee_client.doc_from_path(\n",
    "    \"resources\\download (5) - Copy.jpeg\"\n",
    ").parse(documents.TypeCustomV1, endpoint_name=\"pan_card\")\n",
    "\n",
    "# Print a brief summary of the parsed data\n",
    "print(api_response.document)\n",
    "\n",
    "# Iterate over all the fields in the document\n",
    "for field_name, field_values in api_response.document.fields.items():\n",
    "    print(field_name, \"=\", field_values)"
   ]
  }
 ],
 "metadata": {
  "kernelspec": {
   "display_name": "Python 3",
   "language": "python",
   "name": "python3"
  },
  "language_info": {
   "codemirror_mode": {
    "name": "ipython",
    "version": 3
   },
   "file_extension": ".py",
   "mimetype": "text/x-python",
   "name": "python",
   "nbconvert_exporter": "python",
   "pygments_lexer": "ipython3",
   "version": "3.10.3"
  },
  "orig_nbformat": 4
 },
 "nbformat": 4,
 "nbformat_minor": 2
}
